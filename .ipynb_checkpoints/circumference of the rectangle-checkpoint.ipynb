{
 "cells": [
  {
   "cell_type": "code",
   "execution_count": null,
   "metadata": {},
   "outputs": [],
   "source": [
    "# assignment 1 circumference of the rectangle :"
   ]
  },
  {
   "cell_type": "code",
   "execution_count": 1,
   "metadata": {},
   "outputs": [
    {
     "name": "stdout",
     "output_type": "stream",
     "text": [
      "please Enter the length of the rectangle: 9.6\n",
      "please Enter the width of the rectangle: 5.3\n",
      "Circumference of rectangle:  29.799999999999997\n"
     ]
    }
   ],
   "source": [
    "length = float(input(\"please Enter the length of the rectangle: \"))\n",
    "width = float(input(\"please Enter the width of the rectangle: \"))\n",
    "print(\"Circumference of rectangle: \", 2*(length+width))"
   ]
  }
 ],
 "metadata": {
  "kernelspec": {
   "display_name": "Python 3",
   "language": "python",
   "name": "python3"
  },
  "language_info": {
   "codemirror_mode": {
    "name": "ipython",
    "version": 3
   },
   "file_extension": ".py",
   "mimetype": "text/x-python",
   "name": "python",
   "nbconvert_exporter": "python",
   "pygments_lexer": "ipython3",
   "version": "3.8.5"
  }
 },
 "nbformat": 4,
 "nbformat_minor": 4
}
